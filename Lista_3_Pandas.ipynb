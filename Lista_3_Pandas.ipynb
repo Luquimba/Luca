{
  "nbformat": 4,
  "nbformat_minor": 0,
  "metadata": {
    "colab": {
      "provenance": [],
      "mount_file_id": "https://github.com/Luquimba/Luca/blob/Luca/Lista_3_Pandas.ipynb",
      "authorship_tag": "ABX9TyONDPeuBPRNWXGNM7dOLlJ4",
      "include_colab_link": true
    },
    "kernelspec": {
      "name": "python3",
      "display_name": "Python 3"
    },
    "language_info": {
      "name": "python"
    }
  },
  "cells": [
    {
      "cell_type": "markdown",
      "metadata": {
        "id": "view-in-github",
        "colab_type": "text"
      },
      "source": [
        "<a href=\"https://colab.research.google.com/github/Luquimba/Luca/blob/Luca/Lista_3_Pandas.ipynb\" target=\"_parent\"><img src=\"https://colab.research.google.com/assets/colab-badge.svg\" alt=\"Open In Colab\"/></a>"
      ]
    },
    {
      "cell_type": "code",
      "execution_count": 3,
      "metadata": {
        "id": "Mer2UzPQRCZZ",
        "outputId": "a0a0bd0e-ffca-438e-e372-ec025e41f186",
        "colab": {
          "base_uri": "https://localhost:8080/"
        }
      },
      "outputs": [
        {
          "output_type": "stream",
          "name": "stdout",
          "text": [
            "<class 'pandas.core.frame.DataFrame'>\n",
            "RangeIndex: 768 entries, 0 to 767\n",
            "Data columns (total 9 columns):\n",
            " #   Column  Non-Null Count  Dtype  \n",
            "---  ------  --------------  -----  \n",
            " 0   preg    768 non-null    int64  \n",
            " 1   plas    768 non-null    int64  \n",
            " 2   pres    768 non-null    int64  \n",
            " 3   skin    768 non-null    int64  \n",
            " 4   insu    768 non-null    int64  \n",
            " 5   mass    768 non-null    float64\n",
            " 6   pedi    768 non-null    float64\n",
            " 7   age     768 non-null    int64  \n",
            " 8   class   768 non-null    object \n",
            "dtypes: float64(2), int64(6), object(1)\n",
            "memory usage: 54.1+ KB\n",
            "     age  mass   pedi  col_nova     class\n",
            "3     21  28.1  0.167      3.55  negativo\n",
            "4     33  43.1  2.288      5.05  positivo\n",
            "6     26  31.0  0.248      2.50  positivo\n",
            "14    51  25.8  0.587    -12.60  positivo\n",
            "16    31  45.8  0.551      7.40  positivo\n",
            "..   ...   ...    ...       ...       ...\n",
            "748   36  36.4  0.408      0.20  positivo\n",
            "751   28  39.0  0.261      5.50  negativo\n",
            "755   37  36.5  1.057     -0.25  positivo\n",
            "763   63  32.9  0.171    -15.05  negativo\n",
            "765   30  26.2  0.245     -1.90  negativo\n",
            "\n",
            "[301 rows x 5 columns]\n"
          ]
        },
        {
          "output_type": "stream",
          "name": "stderr",
          "text": [
            "/usr/local/lib/python3.7/dist-packages/ipykernel_launcher.py:31: UserWarning: Boolean Series key will be reindexed to match DataFrame index.\n"
          ]
        }
      ],
      "source": [
        "#Lista 3 - Luca Vaccari Almeida -- 2110819\n",
        "\n",
        "#link para o github: https://github.com/Luquimba/Luca\n",
        "\n",
        "from google.colab import drive\n",
        "import numpy as np\n",
        "import pandas as pd\n",
        "\n",
        "diabetes = pd.read_csv('/content/drive/MyDrive/diabetes.csv', sep=',')\n",
        "\n",
        "#Inspecione as colunas do conjunto de dados (Nome das colunas e tipo de dados)\n",
        "\n",
        "diabetes.info()\n",
        "\n",
        "#Escolha uma coluna com valores numéricos e apague todas as linhas que possuam valor nulo\n",
        "\n",
        "diabetes['insu'] = diabetes['insu'].replace(0,np.nan)\n",
        "\n",
        "diabetes['insu'] = diabetes['insu'].dropna()\n",
        "\n",
        "#Calcule a média desta mesma coluna\n",
        "\n",
        "media = diabetes['insu'].mean()\n",
        "\n",
        "#Escolha um critério para eliminar as linhas que possuam valores muito distantes da média e crie um novo Dataframe.\n",
        "\n",
        "filtro = diabetes['insu'] >= 50\n",
        "filtro2 = diabetes['insu'] <= 250\n",
        "\n",
        "diabetes = diabetes[filtro]\n",
        "diabetes = diabetes[filtro2]\n",
        "\n",
        "#Crie um novo Dataframe que contenha apenas 5 colunas do conjunto anterior.\n",
        "\n",
        "diabetes2 = diabetes.drop(['insu','preg','plas','pres','skin'],axis = 1)\n",
        "\n",
        "#Escolha duas colunas numéricas e crie uma nova coluna que siga a regra: (Coluna A - Coluna B)*número aleatório (entre 0 e 1).\n",
        "\n",
        "diabetes2['col_nova'] = diabetes2['mass']-diabetes2['age']\n",
        "\n",
        "diabetes2['col_nova'] = diabetes2['col_nova']*0.5\n",
        "\n",
        "#Embaralhe aleatoriamente o dataframe (índices e valores).\n",
        "\n",
        "diabetes_random = diabetes2.sample(frac=1)\n",
        "\n",
        "#Ordene o Dataframe seguindo um critério definido por você (Explique o critério)\n",
        "\n",
        "diabetes2 = diabetes2[['age','mass','pedi','col_nova','class']] #-> Primeiramente organizei as colunas na ordem desejada, sendo a coluna da idade a primeira, seguida por massa, pedi, coluna nova e por fim class.\n",
        "\n",
        "diabetes2.sort_values(by = ['age']).reset_index(drop=True) # -> Após mudar a ordem das colunas, organizei as idades em ordem crescente, por fim renumerando os index para acompanhar ordem crescente da idade.\n",
        "\n",
        "#Escolha uma coluna numérica e um coluna com strings e utilize a função Groupby para mostrar os totais da coluna.\n",
        "\n",
        "grupo = diabetes2.groupby(['age','class']).sum()\n",
        "\n",
        "#Utilize a função MAPS para fazer algum tipo de substituição no Dataframe (explique)\n",
        "\n",
        "diabetes2['class'] = diabetes2['class'].map({'tested_negative':'negativo','tested_positive':'positivo'})# -> Utilizei a função map para alterar a coluna 'class', substituindo as strings 'tested_positive' e 'tested_negative' por 'positivo' e 'negativo', respectivamente\n",
        "\n",
        "#Exporte o último Dataframe para um arquivo CSV \n",
        "\n",
        "diabetes2.to_csv('AnaliseDiabetes.csv')\n",
        "\n",
        "#Exporte o último Dataframe para um arquivo JSON \n",
        "\n",
        "diabetes2.to_json('AnaliseDiabetes.json')\n",
        "\n"
      ]
    }
  ]
}
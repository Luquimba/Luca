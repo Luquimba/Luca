{
  "nbformat": 4,
  "nbformat_minor": 0,
  "metadata": {
    "colab": {
      "provenance": [],
      "include_colab_link": true
    },
    "kernelspec": {
      "name": "python3",
      "display_name": "Python 3"
    },
    "language_info": {
      "name": "python"
    }
  },
  "cells": [
    {
      "cell_type": "markdown",
      "metadata": {
        "id": "view-in-github",
        "colab_type": "text"
      },
      "source": [
        "<a href=\"https://colab.research.google.com/github/Luquimba/Luca/blob/Luca/LucaVaccari_2110819_Lista3.ipynb\" target=\"_parent\"><img src=\"https://colab.research.google.com/assets/colab-badge.svg\" alt=\"Open In Colab\"/></a>"
      ]
    },
    {
      "cell_type": "code",
      "execution_count": 45,
      "metadata": {
        "id": "Mer2UzPQRCZZ"
      },
      "outputs": [],
      "source": [
        "#Lista 3 - Luca Vaccari Almeida -- 2110819\n",
        "\n",
        "#link para o github: https://github.com/Luquimba/Luca\n",
        "\n",
        "from google.colab import drive\n",
        "import numpy as np\n",
        "import pandas as pd\n",
        "\n",
        "diabetes = pd.read_csv('/content/drive/MyDrive/diabetes.csv')\n"
      ]
    },
    {
      "cell_type": "code",
      "source": [
        "from google.colab import drive\n",
        "drive.mount('/content/drive')"
      ],
      "metadata": {
        "colab": {
          "base_uri": "https://localhost:8080/"
        },
        "id": "ptNVW-1BLQsh",
        "outputId": "9d841358-708c-48fa-a221-c1f2409d1cb6"
      },
      "execution_count": 2,
      "outputs": [
        {
          "output_type": "stream",
          "name": "stdout",
          "text": [
            "Mounted at /content/drive\n"
          ]
        }
      ]
    },
    {
      "cell_type": "code",
      "source": [
        "#Inspecione as colunas do conjunto de dados (Nome das colunas e tipo de dados)\n",
        "\n",
        "diabetes.info()\n"
      ],
      "metadata": {
        "id": "mf7n5UDYJ5I8"
      },
      "execution_count": null,
      "outputs": []
    },
    {
      "cell_type": "code",
      "source": [
        "#Escolha uma coluna com valores numéricos e apague todas as linhas que possuam valor nulo\n",
        "\n",
        "diabetes['insu'].replace(0,np.nan).dropna()\n",
        "\n",
        "\n"
      ],
      "metadata": {
        "id": "GlO9exbOJ5gN"
      },
      "execution_count": null,
      "outputs": []
    },
    {
      "cell_type": "code",
      "source": [
        "#Calcule a média desta mesma coluna\n",
        "\n",
        "media = diabetes['insu'].mean()\n"
      ],
      "metadata": {
        "colab": {
          "base_uri": "https://localhost:8080/"
        },
        "id": "YvixC42dJ5uL",
        "outputId": "763753ae-1b3c-4241-cc01-1a52602e7af9"
      },
      "execution_count": 39,
      "outputs": [
        {
          "output_type": "stream",
          "name": "stdout",
          "text": [
            "155.5482233502538\n"
          ]
        }
      ]
    },
    {
      "cell_type": "code",
      "source": [
        "#Escolha um critério para eliminar as linhas que possuam valores muito distantes da média e crie um novo Dataframe.\n",
        "\n",
        "filtro = diabetes['insu'] >= 50\n",
        "filtro2 = diabetes['insu'] <= 250\n",
        "\n",
        "diabetes = diabetes[filtro]\n",
        "diabetes = diabetes[filtro2]"
      ],
      "metadata": {
        "colab": {
          "base_uri": "https://localhost:8080/"
        },
        "id": "sVrsc9PrJ5xZ",
        "outputId": "38c9fa26-3fbc-4a8e-d656-7a7fc2834a5f"
      },
      "execution_count": 40,
      "outputs": [
        {
          "output_type": "stream",
          "name": "stderr",
          "text": [
            "/usr/local/lib/python3.7/dist-packages/ipykernel_launcher.py:7: UserWarning: Boolean Series key will be reindexed to match DataFrame index.\n",
            "  import sys\n"
          ]
        }
      ]
    },
    {
      "cell_type": "code",
      "source": [
        "\n",
        "#Crie um novo Dataframe que contenha apenas 5 colunas do conjunto anterior.\n",
        "\n",
        "diabetes2 = diabetes.drop(['insu','preg','plas','pres','skin'],axis = 1)"
      ],
      "metadata": {
        "id": "jUYlqhUyJ507"
      },
      "execution_count": 41,
      "outputs": []
    },
    {
      "cell_type": "markdown",
      "source": [],
      "metadata": {
        "id": "F6400u6yQqkc"
      }
    },
    {
      "cell_type": "code",
      "source": [
        "#Escolha duas colunas numéricas e crie uma nova coluna que siga a regra: (Coluna A - Coluna B)*número aleatório (entre 0 e 1).\n",
        "\n",
        "diabetes2['col_nova'] = diabetes2['mass']-diabetes2['age']\n",
        "\n",
        "diabetes2['col_nova'] = diabetes2['col_nova']*0.18\n"
      ],
      "metadata": {
        "id": "Anl6phP0Kk8M"
      },
      "execution_count": 44,
      "outputs": []
    },
    {
      "cell_type": "code",
      "source": [
        "\n",
        "#Embaralhe aleatoriamente o dataframe (índices e valores).\n",
        "\n",
        "diabetes_random = diabetes2.sample(frac=1)"
      ],
      "metadata": {
        "id": "dKWtkDgiKk-a"
      },
      "execution_count": 43,
      "outputs": []
    },
    {
      "cell_type": "code",
      "source": [
        "#Ordene o Dataframe seguindo um critério definido por você (Explique o critério)\n",
        "\n",
        "diabetes2 = diabetes2[['age','mass','pedi','col_nova','class']] #-> Primeiramente organizei as colunas na ordem desejada, sendo a coluna da idade a primeira, seguida por massa, pedi, coluna nova e por fim class.\n",
        "\n",
        "diabetes2.sort_values(by = ['age']).reset_index(drop=True) # -> Após mudar a ordem das colunas, organizei as idades em ordem crescente, por fim renumerando os index para acompanhar ordem crescente da idade.\n"
      ],
      "metadata": {
        "id": "SGO2LRgUKlAP"
      },
      "execution_count": null,
      "outputs": []
    },
    {
      "cell_type": "code",
      "source": [
        "#Escolha uma coluna numérica e um coluna com strings e utilize a função Groupby para mostrar os totais da coluna.\n",
        "\n",
        "grupo = diabetes2.groupby(['age','class']).sum()"
      ],
      "metadata": {
        "id": "DHNsxDneKlDA"
      },
      "execution_count": null,
      "outputs": []
    },
    {
      "cell_type": "code",
      "source": [
        "\n",
        "\n",
        "#Utilize a função MAPS para fazer algum tipo de substituição no Dataframe (explique)\n",
        "\n",
        "diabetes2['class'] = diabetes2['class'].map({'tested_negative':'negativo','tested_positive':'positivo'})# -> Utilizei a função map para alterar a coluna 'class', substituindo as strings 'tested_positive' e 'tested_negative' por 'positivo' e 'negativo', respectivamente\n"
      ],
      "metadata": {
        "id": "7wf7BBWSK24h"
      },
      "execution_count": null,
      "outputs": []
    },
    {
      "cell_type": "code",
      "source": [
        "#Exporte o último Dataframe para um arquivo CSV \n",
        "\n",
        "diabetes2.to_csv('AnaliseDiabetes.csv')"
      ],
      "metadata": {
        "id": "WyaW0oiZK28O"
      },
      "execution_count": null,
      "outputs": []
    },
    {
      "cell_type": "code",
      "source": [
        "#Exporte o último Dataframe para um arquivo JSON \n",
        "\n",
        "diabetes2.to_json('AnaliseDiabetes.json')\n"
      ],
      "metadata": {
        "id": "iP7cMfq8K2_w"
      },
      "execution_count": null,
      "outputs": []
    }
  ]
}